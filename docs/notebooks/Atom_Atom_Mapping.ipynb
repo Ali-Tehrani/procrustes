{
 "cells": [
  {
   "cell_type": "markdown",
   "metadata": {},
   "source": [
    "# Atom-Atom Mapping"
   ]
  },
  {
   "cell_type": "markdown",
   "metadata": {},
   "source": [
    "Atom-atom mapping can help chemists and biologist to get a better understanding of the reaction mechanisms and provide clues for lead compound optimization for medicinal chemists. In this example, we are going to use two sided permutation Procrustes, which has been implemented `procrustes.permutation_2sided`."
   ]
  },
  {
   "cell_type": "markdown",
   "metadata": {},
   "source": [
    "The example we are going to use is shown below, which is the atom-atom mapping between 3,3‐dimethylpent‐1‐en‐4‐yne and but‐1‐en‐3‐yne. For clarity, we denote but‐1‐en‐3‐yne molecule **A** and 3,3‐dimethylpent‐1‐en‐4‐yne molecule **B**. What would be most reasonable mapping? If it is not mapping the double bounds and triple bonds respectively, it is not a good matching based on our chemical knowledge."
   ]
  },
  {
   "cell_type": "markdown",
   "metadata": {},
   "source": [
    "![Fig. 1 Two organic compounds for atom-atom mapping](before_mapping.png \"Fig. 1 Two organic compounds for atom-atom mapping\")"
   ]
  },
  {
   "cell_type": "markdown",
   "metadata": {},
   "source": [
    "In order to figure the mapping relationship, one needs to represent the molecules in a matrix format. We will save the nuclear charge as the diagonal elements and the bond orders for off-diagonal ones, which has been depicted below. In this way, the matrix $A \\in R^{7\\times7}$ and the matrix $B \\in R^{4 \\times4}$ are built, both of which are symmetric. The atoms are also labeled for later discussion."
   ]
  },
  {
   "cell_type": "markdown",
   "metadata": {},
   "source": [
    "![Fig. 2 Graphical representation for two molecules.](data.png)"
   ]
  },
  {
   "cell_type": "code",
   "execution_count": 40,
   "metadata": {},
   "outputs": [],
   "source": [
    "# import required libraries\n",
    "from __future__ import absolute_import, division, print_function\n",
    "import numpy as np\n",
    "from procrustes import permutation_2sided, utils"
   ]
  },
  {
   "cell_type": "markdown",
   "metadata": {},
   "source": [
    "Now we have two matrices $A$ and $B$ for two molecules,"
   ]
  },
  {
   "cell_type": "code",
   "execution_count": 64,
   "metadata": {},
   "outputs": [],
   "source": [
    "# Define molecule A, but‐1‐en‐3‐yne\n",
    "A = np.array([[6, 3, 0, 0],\n",
    "              [3, 6, 1, 0],\n",
    "              [0, 1, 6, 2],\n",
    "              [0, 0, 2, 6]])"
   ]
  },
  {
   "cell_type": "code",
   "execution_count": 65,
   "metadata": {},
   "outputs": [],
   "source": [
    "# Define molecule B, 3,3‐dimethylpent‐1‐en‐4‐yne\n",
    "B = np.array([[6, 3, 0, 0, 0, 0, 0],\n",
    "              [3, 6, 1, 0, 0, 0, 0],\n",
    "              [0, 1, 6, 1, 0, 1, 1],\n",
    "              [0, 0, 1, 6, 2, 0, 0],\n",
    "              [0, 0, 0, 2, 6, 0, 0],\n",
    "              [0, 0, 1, 0, 0, 6, 0],\n",
    "              [0, 0, 1, 0, 0, 0, 6]])"
   ]
  },
  {
   "cell_type": "code",
   "execution_count": 66,
   "metadata": {},
   "outputs": [
    {
     "data": {
      "text/plain": [
       "array([[6, 3, 0, 0, 0, 0, 0],\n",
       "       [3, 6, 1, 0, 0, 0, 0],\n",
       "       [0, 1, 6, 1, 0, 1, 1],\n",
       "       [0, 0, 1, 6, 2, 0, 0],\n",
       "       [0, 0, 0, 2, 6, 0, 0],\n",
       "       [0, 0, 1, 0, 0, 6, 0],\n",
       "       [0, 0, 1, 0, 0, 0, 6]])"
      ]
     },
     "execution_count": 66,
     "metadata": {},
     "output_type": "execute_result"
    }
   ],
   "source": [
    "B"
   ]
  },
  {
   "cell_type": "code",
   "execution_count": 67,
   "metadata": {},
   "outputs": [],
   "source": [
    "_, _, U, e_opt = permutation_2sided(\n",
    "    A, B, transform_mode='single_undirected',\n",
    "    remove_zero_col=False, remove_zero_row=False)"
   ]
  },
  {
   "cell_type": "code",
   "execution_count": 68,
   "metadata": {},
   "outputs": [
    {
     "data": {
      "text/plain": [
       "array([[1., 0., 0., 0., 0., 0., 0.],\n",
       "       [0., 1., 0., 0., 0., 0., 0.],\n",
       "       [0., 0., 0., 1., 0., 0., 0.],\n",
       "       [0., 0., 0., 0., 1., 0., 0.],\n",
       "       [0., 0., 0., 0., 0., 0., 1.],\n",
       "       [0., 0., 0., 0., 0., 1., 0.],\n",
       "       [0., 0., 1., 0., 0., 0., 0.]])"
      ]
     },
     "execution_count": 68,
     "metadata": {},
     "output_type": "execute_result"
    }
   ],
   "source": [
    "# the permutation matrix\n",
    "U"
   ]
  },
  {
   "cell_type": "code",
   "execution_count": 69,
   "metadata": {},
   "outputs": [
    {
     "data": {
      "text/plain": [
       "array([[12,  9,  6,  6,  6,  6,  6],\n",
       "       [ 9, 12,  7,  6,  6,  6,  6],\n",
       "       [ 6,  7, 12,  7,  6,  7,  7],\n",
       "       [ 6,  6,  7, 12,  8,  6,  6],\n",
       "       [ 6,  6,  6,  8, 12,  6,  6],\n",
       "       [ 6,  6,  7,  6,  6, 12,  6],\n",
       "       [ 6,  6,  7,  6,  6,  6, 12]])"
      ]
     },
     "execution_count": 69,
     "metadata": {},
     "output_type": "execute_result"
    }
   ],
   "source": [
    "B"
   ]
  },
  {
   "cell_type": "markdown",
   "metadata": {},
   "source": [
    "The new matrix of molecule A can be obtained with the permutation operation."
   ]
  },
  {
   "cell_type": "code",
   "execution_count": 60,
   "metadata": {},
   "outputs": [],
   "source": [
    "# the padded matrix A\n",
    "temp_A, temp_B = utils.zero_padding(A, B)\n",
    "\n",
    "# Compute the transformed molecule A\n",
    "new_A = np.dot(U.T, np.dot(temp_A, U))"
   ]
  },
  {
   "cell_type": "code",
   "execution_count": 61,
   "metadata": {},
   "outputs": [
    {
     "name": "stdout",
     "output_type": "stream",
     "text": [
      "[[6. 3. 0. 0. 0. 0. 0.]\n",
      " [3. 6. 0. 1. 0. 0. 0.]\n",
      " [0. 0. 0. 0. 0. 0. 0.]\n",
      " [0. 1. 0. 6. 2. 0. 0.]\n",
      " [0. 0. 0. 2. 6. 0. 0.]\n",
      " [0. 0. 0. 0. 0. 0. 0.]\n",
      " [0. 0. 0. 0. 0. 0. 0.]]\n"
     ]
    }
   ],
   "source": [
    "print(new_A)"
   ]
  },
  {
   "cell_type": "code",
   "execution_count": 62,
   "metadata": {},
   "outputs": [
    {
     "data": {
      "text/plain": [
       "array([[12,  9,  6,  6,  6,  6,  6],\n",
       "       [ 9, 12,  7,  6,  6,  6,  6],\n",
       "       [ 6,  7, 12,  7,  6,  7,  7],\n",
       "       [ 6,  6,  7, 12,  8,  6,  6],\n",
       "       [ 6,  6,  6,  8, 12,  6,  6],\n",
       "       [ 6,  6,  7,  6,  6, 12,  6],\n",
       "       [ 6,  6,  7,  6,  6,  6, 12]])"
      ]
     },
     "execution_count": 62,
     "metadata": {},
     "output_type": "execute_result"
    }
   ],
   "source": [
    "temp_B"
   ]
  },
  {
   "cell_type": "code",
   "execution_count": 63,
   "metadata": {},
   "outputs": [
    {
     "data": {
      "text/plain": [
       "array([[12,  9,  6,  6,  6,  6,  6],\n",
       "       [ 9, 12,  7,  6,  6,  6,  6],\n",
       "       [ 6,  7, 12,  7,  6,  7,  7],\n",
       "       [ 6,  6,  7, 12,  8,  6,  6],\n",
       "       [ 6,  6,  6,  8, 12,  6,  6],\n",
       "       [ 6,  6,  7,  6,  6, 12,  6],\n",
       "       [ 6,  6,  7,  6,  6,  6, 12]])"
      ]
     },
     "execution_count": 63,
     "metadata": {},
     "output_type": "execute_result"
    }
   ],
   "source": [
    "B"
   ]
  },
  {
   "cell_type": "code",
   "execution_count": null,
   "metadata": {},
   "outputs": [],
   "source": []
  }
 ],
 "metadata": {
  "kernelspec": {
   "display_name": "Python 3",
   "language": "python",
   "name": "python3"
  },
  "language_info": {
   "codemirror_mode": {
    "name": "ipython",
    "version": 3
   },
   "file_extension": ".py",
   "mimetype": "text/x-python",
   "name": "python",
   "nbconvert_exporter": "python",
   "pygments_lexer": "ipython3",
   "version": "3.7.6"
  }
 },
 "nbformat": 4,
 "nbformat_minor": 4
}
